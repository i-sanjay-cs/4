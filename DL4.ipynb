{
 "cells": [
  {
   "cell_type": "code",
   "execution_count": 10,
   "metadata": {},
   "outputs": [],
   "source": [
    "import tensorflow as tf \n"
   ]
  },
  {
   "cell_type": "code",
   "execution_count": 12,
   "metadata": {},
   "outputs": [],
   "source": [
    "from tensorflow.keras.datasets import cifar10\n",
    "from tensorflow.keras.models import Sequential\n",
    "from tensorflow.keras.layers import Conv2D, MaxPooling2D, Flatten, Dense,Dropout\n",
    "from tensorflow.keras.optimizers import Adam"
   ]
  },
  {
   "cell_type": "code",
   "execution_count": 13,
   "metadata": {},
   "outputs": [],
   "source": [
    "(x_train,y_train), (x_test,y_test) = cifar10.load_data()"
   ]
  },
  {
   "cell_type": "code",
   "execution_count": 14,
   "metadata": {},
   "outputs": [],
   "source": [
    "x_train = x_train/255.0\n",
    "x_test = x_test/255.0"
   ]
  },
  {
   "cell_type": "code",
   "execution_count": 15,
   "metadata": {},
   "outputs": [],
   "source": [
    "model = Sequential([\n",
    "    Conv2D(32,(3,3), activation='relu', input_shape=(32,32,3)),\n",
    "    MaxPooling2D((2,2)),\n",
    "    Conv2D(64,(3,3), activation='relu'),\n",
    "    MaxPooling2D((2,2)),\n",
    "    Conv2D(128,(3,3), activation='relu'),\n",
    "    Flatten(),\n",
    "    Dense(64, activation='relu'),\n",
    "    Dropout(0.5),\n",
    "    Dense(10, activation='softmax')\n",
    "])"
   ]
  },
  {
   "cell_type": "code",
   "execution_count": 16,
   "metadata": {},
   "outputs": [
    {
     "name": "stderr",
     "output_type": "stream",
     "text": [
      "WARNING:absl:At this time, the v2.11+ optimizer `tf.keras.optimizers.Adam` runs slowly on M1/M2 Macs, please use the legacy Keras optimizer instead, located at `tf.keras.optimizers.legacy.Adam`.\n",
      "WARNING:absl:There is a known slowdown when using v2.11+ Keras optimizers on M1/M2 Macs. Falling back to the legacy Keras optimizer, i.e., `tf.keras.optimizers.legacy.Adam`.\n"
     ]
    }
   ],
   "source": [
    "model.compile(optimizer=Adam(learning_rate=0.001), loss= 'sparse_categorical_crossentropy', metrics=['accuracy'])"
   ]
  },
  {
   "cell_type": "code",
   "execution_count": 17,
   "metadata": {},
   "outputs": [
    {
     "name": "stdout",
     "output_type": "stream",
     "text": [
      "Epoch 1/20\n",
      "391/391 [==============================] - 11s 27ms/step - loss: 1.8629 - accuracy: 0.3004 - val_loss: 1.4858 - val_accuracy: 0.4659\n",
      "Epoch 2/20\n",
      "391/391 [==============================] - 11s 28ms/step - loss: 1.5289 - accuracy: 0.4423 - val_loss: 1.3637 - val_accuracy: 0.5236\n",
      "Epoch 3/20\n",
      "391/391 [==============================] - 11s 29ms/step - loss: 1.3857 - accuracy: 0.5032 - val_loss: 1.2119 - val_accuracy: 0.5709\n",
      "Epoch 4/20\n",
      "391/391 [==============================] - 12s 29ms/step - loss: 1.2699 - accuracy: 0.5457 - val_loss: 1.0763 - val_accuracy: 0.6212\n",
      "Epoch 5/20\n",
      "391/391 [==============================] - 12s 30ms/step - loss: 1.1965 - accuracy: 0.5766 - val_loss: 1.0606 - val_accuracy: 0.6276\n",
      "Epoch 6/20\n",
      "391/391 [==============================] - 12s 30ms/step - loss: 1.1403 - accuracy: 0.6005 - val_loss: 0.9838 - val_accuracy: 0.6536\n",
      "Epoch 7/20\n",
      "391/391 [==============================] - 12s 30ms/step - loss: 1.0760 - accuracy: 0.6241 - val_loss: 0.9656 - val_accuracy: 0.6617\n",
      "Epoch 8/20\n",
      "391/391 [==============================] - 12s 31ms/step - loss: 1.0168 - accuracy: 0.6459 - val_loss: 0.9056 - val_accuracy: 0.6841\n",
      "Epoch 9/20\n",
      "391/391 [==============================] - 12s 31ms/step - loss: 0.9835 - accuracy: 0.6576 - val_loss: 0.8832 - val_accuracy: 0.6912\n",
      "Epoch 10/20\n",
      "391/391 [==============================] - 12s 31ms/step - loss: 0.9435 - accuracy: 0.6697 - val_loss: 0.8761 - val_accuracy: 0.6989\n",
      "Epoch 11/20\n",
      "391/391 [==============================] - 12s 31ms/step - loss: 0.9145 - accuracy: 0.6828 - val_loss: 0.9289 - val_accuracy: 0.6832\n",
      "Epoch 12/20\n",
      "391/391 [==============================] - 12s 31ms/step - loss: 0.8809 - accuracy: 0.6934 - val_loss: 0.8431 - val_accuracy: 0.7080\n",
      "Epoch 13/20\n",
      "391/391 [==============================] - 12s 31ms/step - loss: 0.8386 - accuracy: 0.7078 - val_loss: 0.8370 - val_accuracy: 0.7102\n",
      "Epoch 14/20\n",
      "391/391 [==============================] - 12s 31ms/step - loss: 0.8049 - accuracy: 0.7192 - val_loss: 0.8230 - val_accuracy: 0.7223\n",
      "Epoch 15/20\n",
      "391/391 [==============================] - 12s 31ms/step - loss: 0.7868 - accuracy: 0.7254 - val_loss: 0.8008 - val_accuracy: 0.7270\n",
      "Epoch 16/20\n",
      "391/391 [==============================] - 12s 31ms/step - loss: 0.7579 - accuracy: 0.7350 - val_loss: 0.8213 - val_accuracy: 0.7203\n",
      "Epoch 17/20\n",
      "391/391 [==============================] - 16s 41ms/step - loss: 0.7316 - accuracy: 0.7435 - val_loss: 0.8182 - val_accuracy: 0.7304\n",
      "Epoch 18/20\n",
      "391/391 [==============================] - 12s 30ms/step - loss: 0.7087 - accuracy: 0.7503 - val_loss: 0.7957 - val_accuracy: 0.7326\n",
      "Epoch 19/20\n",
      "391/391 [==============================] - 12s 30ms/step - loss: 0.6894 - accuracy: 0.7574 - val_loss: 0.7930 - val_accuracy: 0.7360\n",
      "Epoch 20/20\n",
      "391/391 [==============================] - 12s 29ms/step - loss: 0.6688 - accuracy: 0.7644 - val_loss: 0.8060 - val_accuracy: 0.7323\n"
     ]
    },
    {
     "data": {
      "text/plain": [
       "<keras.src.callbacks.History at 0x2c5dbc290>"
      ]
     },
     "execution_count": 17,
     "metadata": {},
     "output_type": "execute_result"
    }
   ],
   "source": [
    "model.fit(x_train,y_train, batch_size=128, epochs=20, validation_data=(x_test,y_test))"
   ]
  },
  {
   "cell_type": "code",
   "execution_count": 18,
   "metadata": {},
   "outputs": [
    {
     "name": "stdout",
     "output_type": "stream",
     "text": [
      "313/313 [==============================] - 1s 4ms/step - loss: 0.8060 - accuracy: 0.7323\n",
      "0.7322999835014343\n"
     ]
    }
   ],
   "source": [
    "loss, accuracy = model.evaluate(x_test,y_test)\n",
    "print(accuracy)"
   ]
  },
  {
   "cell_type": "code",
   "execution_count": null,
   "metadata": {},
   "outputs": [],
   "source": []
  }
 ],
 "metadata": {
  "kernelspec": {
   "display_name": "Python 3",
   "language": "python",
   "name": "python3"
  },
  "language_info": {
   "codemirror_mode": {
    "name": "ipython",
    "version": 3
   },
   "file_extension": ".py",
   "mimetype": "text/x-python",
   "name": "python",
   "nbconvert_exporter": "python",
   "pygments_lexer": "ipython3",
   "version": "3.11.3"
  }
 },
 "nbformat": 4,
 "nbformat_minor": 2
}
